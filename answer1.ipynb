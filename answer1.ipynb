{
 "cells": [
  {
   "cell_type": "markdown",
   "metadata": {},
   "source": [
    "# Answers:"
   ]
  },
  {
   "cell_type": "markdown",
   "metadata": {},
   "source": [
    "### Summary of the Data (Part 1)\n",
    "\n",
    "**Total Order Value by Product Category**\n",
    "\n",
    "| Product Category | Total Order Value (PHP) |\n",
    "|------------------|-------------------------|\n",
    "| Food             | 4800                    |\n",
    "| Electronics      | 5300                    |\n",
    "| Healthcare       | 3100                    |\n",
    "| Clothing         | 2000                    |\n",
    "| Total Order:     | 15200                   |\n"
   ]
  },
  {
   "cell_type": "markdown",
   "metadata": {},
   "source": [
    "### Summary of the Data (Part 2):\n",
    "\n",
    "**Summary Statistics for Order Value (PHP)**\n",
    "\n",
    "- **Total Orders**: 12\n",
    "- **Mean Order Value**: PHP 1133.33\n",
    "- **Median Order Value**: PHP 600\n",
    "- **Minimum Order Value**: PHP 200\n",
    "- **Maximum Order Value**: PHP 5000\n"
   ]
  },
  {
   "cell_type": "markdown",
   "metadata": {},
   "source": [
    "**Differences in Average Order Value by Product Category**\n",
    "\n",
    "| Product Category | Average Order Value (PHP) |\n",
    "|------------------|---------------------------|\n",
    "| Food             | 1325                      |\n",
    "| Electronics      | 2650                      |\n",
    "| Healthcare       | 620                       |\n",
    "| Clothing         | 1000                      |\n"
   ]
  },
  {
   "cell_type": "markdown",
   "metadata": {},
   "source": [
    "### Trends:\n",
    "\n",
    "From the analysis, we observe notable differences in the average order value across different product categories:\n",
    "\n",
    "- **Electronics** has the highest average order value at PHP 2650.\n",
    "- **Clothing** follows with an average order value of PHP 1000.\n",
    "- **Food** ranks third with an average order value of PHP 1325.\n",
    "- **Healthcare** has the lowest average order value at PHP 620.\n"
   ]
  }
 ],
 "metadata": {
  "language_info": {
   "name": "python"
  }
 },
 "nbformat": 4,
 "nbformat_minor": 2
}
