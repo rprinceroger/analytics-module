{
 "cells": [
  {
   "cell_type": "markdown",
   "metadata": {},
   "source": [
    "# Grade Calculator\n",
    "\n",
    "In this activity, the user is prompted to enter a score. Based on the score entered, the code uses conditional statements (if, else if, and else) to determine the corresponding grade. \n",
    "\n",
    "- Score is 90 or above, grade = 'A' \n",
    "- Score is between 80 and 89, grade = 'B'\n",
    "- Score is between 70 and 79, grade = 'C'\n",
    "- Score is between 60 and 69, grade = 'D' \n",
    "- Score is below 60, grade = 'F'. \n",
    "\n",
    "Print the grade to the console.\n"
   ]
  },
  {
   "cell_type": "code",
   "execution_count": 2,
   "metadata": {},
   "outputs": [
    {
     "name": "stdout",
     "output_type": "stream",
     "text": [
      "The grade for a score of 95.0 is: A\n"
     ]
    }
   ],
   "source": [
    "# Grade Calculator\n",
    "\n",
    "# Function to determine the grade based on the score\n",
    "def calculate_grade(score):\n",
    "    if score >= 90:\n",
    "        grade = 'A'\n",
    "    elif score >= 80:\n",
    "        grade = 'B'\n",
    "    elif score >= 70:\n",
    "        grade = 'C'\n",
    "    elif score >= 60:\n",
    "        grade = 'D'\n",
    "    else:\n",
    "        grade = 'F'\n",
    "    return grade\n",
    "\n",
    "# Prompt the user to enter a score\n",
    "score = float(input(\"Enter the score: \"))\n",
    "\n",
    "# Calculate and print the grade\n",
    "grade = calculate_grade(score)\n",
    "print(f\"The grade for a score of {score} is: {grade}\")\n"
   ]
  },
  {
   "cell_type": "markdown",
   "metadata": {},
   "source": [
    "# Calculating Power/Exponents\n",
    "\n",
    "Write a Python program to calculate the result of raising a given base to a specified exponent.\n",
    "Do not use ** in this exercise.\n",
    "\n",
    "Hint: use **input()** to get user input for getting the base and exponent.\n",
    "\n",
    "- e.g. 2<sup>3</sup> = 8"
   ]
  },
  {
   "cell_type": "code",
   "execution_count": 3,
   "metadata": {},
   "outputs": [
    {
     "name": "stdout",
     "output_type": "stream",
     "text": [
      "5.0 raised to the power of 5 is: 3125.0\n"
     ]
    }
   ],
   "source": [
    "# Calculating Power/Exponents\n",
    "\n",
    "# Function to calculate base raised to the power of exponent\n",
    "def calculate_power(base, exponent):\n",
    "    result = 1\n",
    "    for _ in range(exponent):\n",
    "        result *= base\n",
    "    return result\n",
    "\n",
    "# Prompt the user to enter the base and exponent\n",
    "base = float(input(\"Enter the base: \"))\n",
    "exponent = int(input(\"Enter the exponent: \"))\n",
    "\n",
    "# Calculate and print the result\n",
    "result = calculate_power(base, exponent)\n",
    "print(f\"{base} raised to the power of {exponent} is: {result}\")\n"
   ]
  },
  {
   "cell_type": "markdown",
   "metadata": {},
   "source": [
    "# Get the Sum of all the items in a list\n",
    "\n",
    "Write a Python program to sum all the items in a list.\n",
    "\n",
    "- e.g. [2, 3, 4] = 8"
   ]
  },
  {
   "cell_type": "code",
   "execution_count": 4,
   "metadata": {},
   "outputs": [
    {
     "name": "stdout",
     "output_type": "stream",
     "text": [
      "The sum of all the items in the list [2, 3, 4] is: 9\n"
     ]
    }
   ],
   "source": [
    "# Get the Sum of all the items in a list\n",
    "\n",
    "# Function to sum all the items in a list\n",
    "def sum_of_list(items):\n",
    "    total = 0\n",
    "    for item in items:\n",
    "        total += item\n",
    "    return total\n",
    "\n",
    "# Example list\n",
    "example_list = [2, 3, 4]\n",
    "\n",
    "# Calculate and print the sum of the items in the list\n",
    "total_sum = sum_of_list(example_list)\n",
    "print(f\"The sum of all the items in the list {example_list} is: {total_sum}\")\n"
   ]
  }
 ],
 "metadata": {
  "kernelspec": {
   "display_name": "Python 3",
   "language": "python",
   "name": "python3"
  },
  "language_info": {
   "codemirror_mode": {
    "name": "ipython",
    "version": 3
   },
   "file_extension": ".py",
   "mimetype": "text/x-python",
   "name": "python",
   "nbconvert_exporter": "python",
   "pygments_lexer": "ipython3",
   "version": "3.12.3"
  }
 },
 "nbformat": 4,
 "nbformat_minor": 2
}
