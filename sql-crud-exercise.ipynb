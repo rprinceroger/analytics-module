{
 "cells": [
  {
   "cell_type": "markdown",
   "metadata": {},
   "source": [
    "## PRACTICE EXERCISE"
   ]
  },
  {
   "cell_type": "markdown",
   "metadata": {},
   "source": [
    "**Objective:**\n",
    "Practice performing CRUD operations (Create, Read, Update, Delete) on a database table.\n",
    "\n",
    "**Perform the following tasks:**\n",
    "1. Create a new table named `Books`, with the following columns:\n",
    "  * BookID (Primary Key, Auto-increment)\n",
    "  * Title (Title of the book)\n",
    "  * Author (Author of the book)\n",
    "  * Genre (Genre of the book)\n",
    "  * Publication_Year (Year of publication)\n",
    "  * Price (Price of the Book)\n",
    "2. Insert at least 3 new books into the `Books` table.\n",
    "3. Retrieve all books from the Books table.\n",
    "4. Update the price of a specific book.\n",
    "5. Delete a book from the table."
   ]
  },
  {
   "cell_type": "code",
   "execution_count": 4,
   "metadata": {},
   "outputs": [],
   "source": [
    "# Load the ipython-sql extension\n",
    "%load_ext sql"
   ]
  },
  {
   "cell_type": "code",
   "execution_count": 5,
   "metadata": {},
   "outputs": [],
   "source": [
    "# Connect to the SQLite database (create it if it doesn't exist)\n",
    "%sql sqlite:///books.db"
   ]
  },
  {
   "cell_type": "code",
   "execution_count": 6,
   "metadata": {},
   "outputs": [
    {
     "name": "stdout",
     "output_type": "stream",
     "text": [
      " * sqlite:///books.db\n",
      "Done.\n"
     ]
    },
    {
     "data": {
      "text/plain": [
       "[]"
      ]
     },
     "execution_count": 6,
     "metadata": {},
     "output_type": "execute_result"
    }
   ],
   "source": [
    "%%sql\n",
    "CREATE TABLE IF NOT EXISTS Books (\n",
    "    BookID INTEGER PRIMARY KEY AUTOINCREMENT,\n",
    "    Title TEXT NOT NULL,\n",
    "    Author TEXT NOT NULL,\n",
    "    Genre TEXT NOT NULL,\n",
    "    Publication_Year INTEGER NOT NULL,\n",
    "    Price REAL NOT NULL\n",
    ");\n"
   ]
  },
  {
   "cell_type": "code",
   "execution_count": 7,
   "metadata": {},
   "outputs": [
    {
     "name": "stdout",
     "output_type": "stream",
     "text": [
      " * sqlite:///books.db\n",
      "3 rows affected.\n"
     ]
    },
    {
     "data": {
      "text/plain": [
       "[]"
      ]
     },
     "execution_count": 7,
     "metadata": {},
     "output_type": "execute_result"
    }
   ],
   "source": [
    "%%sql\n",
    "INSERT INTO Books (Title, Author, Genre, Publication_Year, Price) VALUES\n",
    "('To Kill a Mockingbird', 'Harper Lee', 'Fiction', 1960, 10.99),\n",
    "('1984', 'George Orwell', 'Dystopian', 1949, 8.99),\n",
    "('The Great Gatsby', 'F. Scott Fitzgerald', 'Classic', 1925, 12.99);\n"
   ]
  },
  {
   "cell_type": "code",
   "execution_count": 8,
   "metadata": {},
   "outputs": [
    {
     "name": "stdout",
     "output_type": "stream",
     "text": [
      " * sqlite:///books.db\n",
      "Done.\n"
     ]
    },
    {
     "data": {
      "text/html": [
       "<table>\n",
       "    <thead>\n",
       "        <tr>\n",
       "            <th>BookID</th>\n",
       "            <th>Title</th>\n",
       "            <th>Author</th>\n",
       "            <th>Genre</th>\n",
       "            <th>Publication_Year</th>\n",
       "            <th>Price</th>\n",
       "        </tr>\n",
       "    </thead>\n",
       "    <tbody>\n",
       "        <tr>\n",
       "            <td>1</td>\n",
       "            <td>To Kill a Mockingbird</td>\n",
       "            <td>Harper Lee</td>\n",
       "            <td>Fiction</td>\n",
       "            <td>1960</td>\n",
       "            <td>10.99</td>\n",
       "        </tr>\n",
       "        <tr>\n",
       "            <td>2</td>\n",
       "            <td>1984</td>\n",
       "            <td>George Orwell</td>\n",
       "            <td>Dystopian</td>\n",
       "            <td>1949</td>\n",
       "            <td>8.99</td>\n",
       "        </tr>\n",
       "        <tr>\n",
       "            <td>3</td>\n",
       "            <td>The Great Gatsby</td>\n",
       "            <td>F. Scott Fitzgerald</td>\n",
       "            <td>Classic</td>\n",
       "            <td>1925</td>\n",
       "            <td>12.99</td>\n",
       "        </tr>\n",
       "    </tbody>\n",
       "</table>"
      ],
      "text/plain": [
       "[(1, 'To Kill a Mockingbird', 'Harper Lee', 'Fiction', 1960, 10.99),\n",
       " (2, '1984', 'George Orwell', 'Dystopian', 1949, 8.99),\n",
       " (3, 'The Great Gatsby', 'F. Scott Fitzgerald', 'Classic', 1925, 12.99)]"
      ]
     },
     "execution_count": 8,
     "metadata": {},
     "output_type": "execute_result"
    }
   ],
   "source": [
    "%sql SELECT * FROM Books;\n"
   ]
  },
  {
   "cell_type": "code",
   "execution_count": 9,
   "metadata": {},
   "outputs": [
    {
     "name": "stdout",
     "output_type": "stream",
     "text": [
      " * sqlite:///books.db\n",
      "1 rows affected.\n"
     ]
    },
    {
     "data": {
      "text/plain": [
       "[]"
      ]
     },
     "execution_count": 9,
     "metadata": {},
     "output_type": "execute_result"
    }
   ],
   "source": [
    "%sql UPDATE Books SET Price = 9.99 WHERE Title = '1984';\n"
   ]
  },
  {
   "cell_type": "code",
   "execution_count": 10,
   "metadata": {},
   "outputs": [
    {
     "name": "stdout",
     "output_type": "stream",
     "text": [
      " * sqlite:///books.db\n",
      "1 rows affected.\n"
     ]
    },
    {
     "data": {
      "text/plain": [
       "[]"
      ]
     },
     "execution_count": 10,
     "metadata": {},
     "output_type": "execute_result"
    }
   ],
   "source": [
    "%sql DELETE FROM Books WHERE Title = 'The Great Gatsby';\n"
   ]
  },
  {
   "cell_type": "code",
   "execution_count": 11,
   "metadata": {},
   "outputs": [
    {
     "name": "stdout",
     "output_type": "stream",
     "text": [
      " * sqlite:///books.db\n",
      "Done.\n"
     ]
    },
    {
     "data": {
      "text/html": [
       "<table>\n",
       "    <thead>\n",
       "        <tr>\n",
       "            <th>BookID</th>\n",
       "            <th>Title</th>\n",
       "            <th>Author</th>\n",
       "            <th>Genre</th>\n",
       "            <th>Publication_Year</th>\n",
       "            <th>Price</th>\n",
       "        </tr>\n",
       "    </thead>\n",
       "    <tbody>\n",
       "        <tr>\n",
       "            <td>1</td>\n",
       "            <td>To Kill a Mockingbird</td>\n",
       "            <td>Harper Lee</td>\n",
       "            <td>Fiction</td>\n",
       "            <td>1960</td>\n",
       "            <td>10.99</td>\n",
       "        </tr>\n",
       "        <tr>\n",
       "            <td>2</td>\n",
       "            <td>1984</td>\n",
       "            <td>George Orwell</td>\n",
       "            <td>Dystopian</td>\n",
       "            <td>1949</td>\n",
       "            <td>9.99</td>\n",
       "        </tr>\n",
       "    </tbody>\n",
       "</table>"
      ],
      "text/plain": [
       "[(1, 'To Kill a Mockingbird', 'Harper Lee', 'Fiction', 1960, 10.99),\n",
       " (2, '1984', 'George Orwell', 'Dystopian', 1949, 9.99)]"
      ]
     },
     "execution_count": 11,
     "metadata": {},
     "output_type": "execute_result"
    }
   ],
   "source": [
    "%sql SELECT * FROM Books;\n"
   ]
  },
  {
   "cell_type": "code",
   "execution_count": null,
   "metadata": {},
   "outputs": [],
   "source": []
  }
 ],
 "metadata": {
  "kernelspec": {
   "display_name": "Python 3",
   "language": "python",
   "name": "python3"
  },
  "language_info": {
   "codemirror_mode": {
    "name": "ipython",
    "version": 3
   },
   "file_extension": ".py",
   "mimetype": "text/x-python",
   "name": "python",
   "nbconvert_exporter": "python",
   "pygments_lexer": "ipython3",
   "version": "3.12.3"
  }
 },
 "nbformat": 4,
 "nbformat_minor": 2
}
