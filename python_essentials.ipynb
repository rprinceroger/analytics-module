{
 "cells": [
  {
   "cell_type": "code",
   "execution_count": 4,
   "metadata": {},
   "outputs": [
    {
     "data": {
      "text/plain": [
       "\"\\nThis is for creating\\nmulti-line comments.\\nIt's enclosed in triple quotes.\\n\""
      ]
     },
     "execution_count": 4,
     "metadata": {},
     "output_type": "execute_result"
    }
   ],
   "source": [
    "# Python Essentials\n",
    "\n",
    "# This is an inline comment\n",
    "\n",
    "\"\"\"\n",
    "This is for creating\n",
    "multi-line comments.\n",
    "It's enclosed in triple quotes.\n",
    "\"\"\"\n",
    "\n",
    "\n"
   ]
  },
  {
   "cell_type": "code",
   "execution_count": 1,
   "metadata": {},
   "outputs": [],
   "source": [
    "# Printing\n",
    "# print(\"Hello, World!\")"
   ]
  },
  {
   "cell_type": "markdown",
   "metadata": {},
   "source": [
    "### Python Variables\n",
    "\n",
    "**Creating Variables**\n",
    "Creating a variable in Python is simple. You assign a value to a variable name and start using it. Python figures out the variable type automatically.\n",
    "\n",
    "**Variable Naming Rules**\n",
    "- Variable names can contain letters (both uppercase and lowercase), digits, and underscores.\n",
    "- They must begin with a letter or an underscore (_), but not with a digit.\n",
    "- Case sensitive (myVar and myvar are different variables)\n",
    "- Python keywords cannot be used as variable names."
   ]
  },
  {
   "cell_type": "code",
   "execution_count": 14,
   "metadata": {},
   "outputs": [],
   "source": [
    "# Variables\n",
    "# x = 10\n",
    "# print(x)"
   ]
  },
  {
   "cell_type": "code",
   "execution_count": 3,
   "metadata": {},
   "outputs": [],
   "source": [
    "# Avoid this! (Reserved Keyword/Function)\n",
    "# print = 10\n",
    "# print(print)"
   ]
  },
  {
   "cell_type": "code",
   "execution_count": 5,
   "metadata": {},
   "outputs": [
    {
     "name": "stdout",
     "output_type": "stream",
     "text": [
      "22\n"
     ]
    }
   ],
   "source": [
    "_my_number = 22\n",
    "print(_my_number)"
   ]
  },
  {
   "cell_type": "code",
   "execution_count": 8,
   "metadata": {},
   "outputs": [],
   "source": [
    "# Things to Avoid\n",
    "# x - 2 = 10\n",
    "# True = 5\n",
    "# 2 = 5"
   ]
  },
  {
   "cell_type": "markdown",
   "metadata": {},
   "source": [
    "## Data Types\n",
    "\n",
    "### Numeric Types\n",
    "\n",
    "**int** - Integer values, such as `5`, `-3`, `1000`, etc.\n",
    "\n",
    "**float**: Floating-point values, representing decimal numbers, such as `3.14`, `-0.001`, `2.0`, etc.\n"
   ]
  },
  {
   "cell_type": "code",
   "execution_count": 14,
   "metadata": {},
   "outputs": [
    {
     "name": "stdout",
     "output_type": "stream",
     "text": [
      "5 -20\n",
      "Type of integer_number: <class 'int'>\n"
     ]
    }
   ],
   "source": [
    "integer_number = 5\n",
    "negative_int = -20\n",
    "\n",
    "print(integer_number, negative_int)\n",
    "print('Type of integer_number:', type(integer_number))"
   ]
  },
  {
   "cell_type": "code",
   "execution_count": 15,
   "metadata": {},
   "outputs": [
    {
     "name": "stdout",
     "output_type": "stream",
     "text": [
      "2.14 -20.55\n",
      "Type of float_number <class 'float'>\n"
     ]
    }
   ],
   "source": [
    "# float\n",
    "float_number = 2.14\n",
    "negative_float = -20.55\n",
    "print(float_number, negative_float)\n",
    "print('Type of float_number', type(float_number))"
   ]
  },
  {
   "cell_type": "markdown",
   "metadata": {},
   "source": [
    "## Sequence Types\n",
    "\n",
    "1. **String**: String values, representing text or characters, such as 'hello', \"world\", '123', etc.\n",
    "2. **Lists**: Lists are used when you need a collection of elements that can be modified or reordered. They are suitable for sequences of items of the same type or different types.\n",
    "3. **Tuple**: Tuples are used when you want to store a fixed collection of elements that should not be changed. They are often used for immutable sequences, such as coordinates, database records, or function return values.\n",
    "4. **Dictionaries**:  Dictionaries are used when you need to associate keys with values for efficient lookup. They are suitable for representing data with key-value relationships, such as mappings, configurations, or database records indexed by unique keys."
   ]
  },
  {
   "cell_type": "code",
   "execution_count": 17,
   "metadata": {},
   "outputs": [
    {
     "name": "stdout",
     "output_type": "stream",
     "text": [
      "Hello World! Hello to the world of Python! user123\n",
      "H\n",
      "!\n"
     ]
    }
   ],
   "source": [
    "str1 = \"Hello World!\"\n",
    "str2 = \"Hello to the world of Python!\"\n",
    "user = \"user123\"\n",
    "\n",
    "print(str1, str2, user)\n",
    "print(str1[0]) # First Character of the String\n",
    "print(str1[-1]) # Last Character"
   ]
  },
  {
   "cell_type": "code",
   "execution_count": 21,
   "metadata": {},
   "outputs": [
    {
     "name": "stdout",
     "output_type": "stream",
     "text": [
      "[1, 2, 3, 4, 5]\n",
      "['Alice', 'Bob', 'Charles']\n",
      "[21, 'Text', -300.2]\n",
      "21\n"
     ]
    }
   ],
   "source": [
    "numbers = [1, 2, 3, 4, 5] # A list of integers\n",
    "names = ['Alice', 'Bob', 'Charles'] # A list of strings\n",
    "numbers_and_strings = [21, 'Text', -300.2]\n",
    "\n",
    "print(numbers)\n",
    "print(names)\n",
    "print(numbers_and_strings)\n",
    "\n",
    "# List Indexing\n",
    "numbers[0] = 21\n",
    "print(numbers[0]) # First value in the numbers list\n"
   ]
  },
  {
   "cell_type": "code",
   "execution_count": 23,
   "metadata": {},
   "outputs": [
    {
     "name": "stdout",
     "output_type": "stream",
     "text": [
      "(1, 'hello', 3.14)\n"
     ]
    }
   ],
   "source": [
    "# Tuples\n",
    "tuple_values = (1, 'hello', 3.14)\n",
    "print(tuple_values)"
   ]
  },
  {
   "cell_type": "code",
   "execution_count": 33,
   "metadata": {},
   "outputs": [],
   "source": [
    "# tuple_values[0] = 2\n",
    "# print(tuple_values)"
   ]
  },
  {
   "cell_type": "code",
   "execution_count": 31,
   "metadata": {},
   "outputs": [
    {
     "name": "stdout",
     "output_type": "stream",
     "text": [
      "[20, (10, 'Hello')]\n",
      "10\n"
     ]
    }
   ],
   "source": [
    "# List and Tuples\n",
    "nested_list_and_tuple = [20, (10, \"Hello\")]\n",
    "print(nested_list_and_tuple)\n",
    "\n",
    "# Assignment\n",
    "nested_list_and_tuple[0] = 30\n",
    "# nested_list_and_tuple[1][0] = 20\n",
    "\n",
    "# Indexing in a nested tuple\n",
    "print(nested_list_and_tuple[1][0])"
   ]
  }
 ],
 "metadata": {
  "kernelspec": {
   "display_name": "Python 3",
   "language": "python",
   "name": "python3"
  },
  "language_info": {
   "codemirror_mode": {
    "name": "ipython",
    "version": 3
   },
   "file_extension": ".py",
   "mimetype": "text/x-python",
   "name": "python",
   "nbconvert_exporter": "python",
   "pygments_lexer": "ipython3",
   "version": "3.12.3"
  }
 },
 "nbformat": 4,
 "nbformat_minor": 2
}
