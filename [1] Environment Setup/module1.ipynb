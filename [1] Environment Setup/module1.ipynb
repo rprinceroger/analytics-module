{
 "cells": [
  {
   "cell_type": "code",
   "execution_count": null,
   "metadata": {},
   "outputs": [],
   "source": [
    "print('Hello, World!')"
   ]
  },
  {
   "cell_type": "markdown",
   "metadata": {},
   "source": [
    "```js\n",
    "console.log('Hello, World!');\n",
    "```\n",
    "\n",
    "```js\n",
    "document.write('Hello, World!');\n",
    "```\n",
    "\n",
    "```py\n",
    "print('Hello, World!')\n",
    "```"
   ]
  },
  {
   "cell_type": "markdown",
   "metadata": {},
   "source": [
    "# Hello!\n",
    "\n",
    "This is some plain text."
   ]
  }
 ],
 "metadata": {
  "language_info": {
   "name": "python"
  }
 },
 "nbformat": 4,
 "nbformat_minor": 2
}
